{
 "cells": [
  {
   "cell_type": "code",
   "execution_count": 4,
   "metadata": {},
   "outputs": [],
   "source": [
    "import numpy as np\n",
    "import pandas as pd\n",
    "import requests \n",
    "import xlsxwriter\n",
    "import math"
   ]
  },
  {
   "cell_type": "code",
   "execution_count": 5,
   "metadata": {},
   "outputs": [],
   "source": [
    "stocks = pd.read_csv(\"sp_500_stocks.csv\")\n",
    "from API_token import IEX_CLOUD_API_TOKEN\n",
    "def chunks(lst, n):\n",
    "    # Yield successive n-sized chungs from list\n",
    "    for i in range(0, len(lst), n):\n",
    "        yield lst[i:i+n]\n",
    "        \n",
    "# IEX Cloud limits batch API calls to 100 tickers per request to boost up the time \n",
    "# Splitting into groups of 100 tickers\n",
    "symbol_groups = list(chunks(stocks[\"Ticker\"], 100))"
   ]
  },
  {
   "cell_type": "code",
   "execution_count": 6,
   "metadata": {},
   "outputs": [],
   "source": [
    "# Information from the API\n",
    "# Market cap for each stock and price of each stock\n",
    "\n",
    "symbol_strings = []\n",
    "# creating strings of symbol for batch API calls\n",
    "for i in range(len(symbol_groups)):\n",
    "    symbol_strings.append(\",\".join(symbol_groups[i]))\n",
    "\n",
    "columns = [\"Ticker\", \"Price\", \"Market Cap\", \"Number of Shares to Buy\"]\n",
    "finalDF = pd.DataFrame(columns=columns)\n",
    "# parsing the data to input into the final dataframe\n",
    "for symbols in symbol_strings:\n",
    "    batch_api_call = f\"https://sandbox.iexapis.com/stable/stock/market/batch?symbols={symbols}&types=quote&token={IEX_CLOUD_API_TOKEN}\"\n",
    "    data = requests.get(batch_api_call).json()\n",
    "    for symbol in symbols.split(\",\"):\n",
    "        finalDF = finalDF.append(\n",
    "            pd.Series(\n",
    "                [\n",
    "                    symbol,\n",
    "                    data[symbol][\"quote\"][\"latestPrice\"],\n",
    "                    data[symbol][\"quote\"][\"marketCap\"],\n",
    "                    \"N/A\"\n",
    "                ],\n",
    "            index = columns\n",
    "            ),\n",
    "            ignore_index = True\n",
    "        )"
   ]
  },
  {
   "cell_type": "code",
   "execution_count": 13,
   "metadata": {},
   "outputs": [
    {
     "name": "stdout",
     "output_type": "stream",
     "text": [
      "Enter the value of your portfolio: 10000000\n"
     ]
    }
   ],
   "source": [
    "while True:\n",
    "    # Enter integer value from the console.\n",
    "    portfolio_size = input('Enter the value of your portfolio: ')\n",
    "\n",
    "    try: \n",
    "        val = float(portfolio_size)\n",
    "    except ValueError:\n",
    "        print(\"Please enter a number\")\n",
    "    else:\n",
    "        break\n",
    "        \n",
    "portfolio_size = val/len(finalDF.index)\n",
    "for i in range(len(finalDF.index)):\n",
    "    finalDF.loc[i, \"Number of Shares to Buy\"] = portfolio_size // finalDF.loc[i, \"Price\"]\n",
    "    "
   ]
  },
  {
   "cell_type": "code",
   "execution_count": 16,
   "metadata": {},
   "outputs": [],
   "source": [
    "finalDF"
   ]
  },
  {
   "cell_type": "code",
   "execution_count": 25,
   "metadata": {},
   "outputs": [],
   "source": [
    "# Writing to excel\n",
    "writer = pd.ExcelWriter(\"RecommendedTrades.xlsx\", engine=\"xlsxwriter\")\n",
    "finalDF.to_excel(writer, \"RecommendedTrades\", index = False)\n",
    "\n",
    "# setting background and font color\n",
    "background_color = \"#0a0a23\"\n",
    "font_color = \"#ffffff\"\n",
    "\n",
    "# String format for ticker\n",
    "# $XX.XX format for stock price\n",
    "# $XX,XXX format for market cap\n",
    "# integer format for the number of shares purchase\n",
    "string_format = writer.book.add_format(\n",
    "    {\n",
    "        \"font_color\": font_color,\n",
    "        \"bg_color\": background_color,\n",
    "        \"border\": 1\n",
    "    }\n",
    ")\n",
    "\n",
    "dollar_format = writer.book.add_format(\n",
    "    {\n",
    "        \"num_format\": \"$0.00\",\n",
    "        \"font_color\": font_color,\n",
    "        \"bg_color\": background_color,\n",
    "        \"border\": 1\n",
    "    }\n",
    ")\n",
    "\n",
    "integer_format = writer.book.add_format(\n",
    "    {\n",
    "        \"num_format\": \"0\",\n",
    "        \"font_color\": font_color,\n",
    "        \"bg_color\": background_color,\n",
    "        \"border\": 1\n",
    "    }\n",
    ")\n",
    "\n",
    "column_format = {\n",
    "    \"A\": [\"Ticker\", string_format],\n",
    "    \"B\": [\"Price\", dollar_format],\n",
    "    \"C\": [\"Market Capitalization\", dollar_format],\n",
    "    \"D\": [\"Number of Shares to Buy\", integer_format]\n",
    "}\n",
    "\n",
    "# Formatting each column to its readable form \n",
    "# and reformat the column headers    \n",
    "for column in column_format.keys():\n",
    "    writer.sheets[\"RecommendedTrades\"].set_column(f\"{column}:{column}\", 18, column_format[column][1]) # 18 is the pixel for the size of the column\n",
    "    writer.sheets[\"RecommendedTrades\"].write(f\"{column}1\", column_format[column][0], column_format[column][1])\n",
    "    \n",
    "\n",
    "\n",
    "\n",
    "writer.save()\n",
    "\n",
    "\n",
    "\n"
   ]
  },
  {
   "cell_type": "code",
   "execution_count": 24,
   "metadata": {},
   "outputs": [],
   "source": []
  },
  {
   "cell_type": "code",
   "execution_count": null,
   "metadata": {},
   "outputs": [],
   "source": []
  }
 ],
 "metadata": {
  "kernelspec": {
   "display_name": "Python 3",
   "language": "python",
   "name": "python3"
  },
  "language_info": {
   "codemirror_mode": {
    "name": "ipython",
    "version": 3
   },
   "file_extension": ".py",
   "mimetype": "text/x-python",
   "name": "python",
   "nbconvert_exporter": "python",
   "pygments_lexer": "ipython3",
   "version": "3.8.0"
  }
 },
 "nbformat": 4,
 "nbformat_minor": 2
}
